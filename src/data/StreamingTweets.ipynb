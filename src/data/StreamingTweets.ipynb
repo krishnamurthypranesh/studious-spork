{
 "cells": [
  {
   "cell_type": "code",
   "execution_count": 1,
   "metadata": {},
   "outputs": [],
   "source": [
    "import csv\n",
    "import json\n",
    "\n",
    "import pymysql\n",
    "import pymysql.cursors\n",
    "\n",
    "import numpy as np\n",
    "import pandas as pd\n",
    "import seaborn as sns\n",
    "import matplotlib.pyplot as plt\n",
    "\n",
    "from twython import TwythonStreamer"
   ]
  },
  {
   "cell_type": "code",
   "execution_count": null,
   "metadata": {},
   "outputs": [],
   "source": [
    "# getting credentials\n",
    "with open(\"../../twitter_creds.json\", \"r\") as twit:\n",
    "    creds = json.load(twit)"
   ]
  },
  {
   "cell_type": "code",
   "execution_count": null,
   "metadata": {},
   "outputs": [],
   "source": [
    "def process_tweet(tweet):\n",
    "    tweet_info = {}\n",
    "    tweet_info[\"tweet_id\"] = tweet[\"id\"]\n",
    "    tweet_info[\"tweet_time\"] = tweet[\"created_at\"]\n",
    "    tweet_info[\"user\"] = tweet[\"user\"][\"screen_name\"]\n",
    "    tweet_info[\"location\"] = tweet[\"user\"][\"location\"]\n",
    "    \n",
    "    if tweet[\"coordinates\"] is None:\n",
    "        tweet_info[\"lat\"] = None\n",
    "        tweet_info[\"long\"] = None\n",
    "    else:\n",
    "        tweet_info[\"lat\"] = tweet[\"coordinates\"][\"coordinates\"][0]\n",
    "        tweet_info[\"long\"] = tweet[\"coordinates\"][\"coordinates\"][1]\n",
    "    tweet_info[\"text\"] = tweet[\"text\"]\n",
    "    \n",
    "    if \"media\" in tweet[\"entities\"].keys():\n",
    "        tweet_info[\"media\"] = 1\n",
    "    else:\n",
    "        tweet_info[\"media\"] = 0\n",
    "        \n",
    "    tweet_info[\"favs\"] = tweet[\"favorite_count\"]\n",
    "    tweet_info[\"retweets\"] = tweet[\"retweet_count\"]\n",
    "    \n",
    "    return tweet_info\n",
    "    \n",
    "def process_user(tweet):\n",
    "    user_info = {}\n",
    "    user_info[\"name\"]= tweet[\"user\"][\"name\"]\n",
    "    user_info[\"handle\"] = tweet[\"user\"][\"screen_name\"]\n",
    "    user_info[\"lang\"] = tweet[\"user\"][\"lang\"]\n",
    "    user_info[\"verified\"] = tweet[\"user\"][\"verified\"]\n",
    "    user_info[\"followers\"] = tweet[\"user\"][\"followers_count\"]\n",
    "    user_info[\"following\"] = tweet[\"user\"][\"friends_count\"]\n",
    "    user_info[\"statuses_count\"] = tweet[\"user\"][\"statuses_count\"]\n",
    "    user_info[\"favourite_count\"] = tweet[\"user\"][\"favourites_count\"]\n",
    "    \n",
    "    return user_info"
   ]
  },
  {
   "cell_type": "code",
   "execution_count": null,
   "metadata": {},
   "outputs": [],
   "source": [
    "# setting up the database connections\n",
    "connection = pymysql.connect(host = 'localhost', user = \"pytester\", password = \"monty\", db = \"twitterdb\",\n",
    "                            charset = \"utf8mb4\", cursorclass = pymysql.cursors.DictCursor)\n",
    "\n"
   ]
  },
  {
   "cell_type": "code",
   "execution_count": null,
   "metadata": {},
   "outputs": [],
   "source": [
    "# tweet insertion query\n",
    "sql_tweet = \"insert into tweets (tweet_id, tweet_time, handle, location, latitude, longitude, tweet_text, media, favs, retweets) values(%s, %s, %s, %s, %s, %s, %s, %s, %s, %s)\"\n",
    "\n",
    "# user insertion query\n",
    "sql_user = \"insert into `users` (name, handle, lang, verified_account, followers_count, friends_count, statuses_count, favourites_count) values(%s, %s, %s, %s, %s, %s, %s, %s)\""
   ]
  },
  {
   "cell_type": "code",
   "execution_count": null,
   "metadata": {},
   "outputs": [],
   "source": [
    "class MyStreamer(TwythonStreamer):\n",
    "    \n",
    "    # Received data\n",
    "    def on_success(self, data):\n",
    "        tweet_data = process_tweet(data)\n",
    "        self.write_to_csv(tweet_data, tweet = True)\n",
    "        \n",
    "        user_data = process_user(data)\n",
    "        self.write_to_csv(user_data, tweet = False)\n",
    "        \n",
    "#         try:\n",
    "#             with connection.cursor() as cursor:\n",
    "#                 cursor.execute(sql_tweet, (tweet_data[\"tweet_id\"], tweet_data[\"tweet_time\"], tweet_data[\"user\"], \n",
    "#                                tweet_data[\"location\"], tweet_data[\"lat\"], tweet_data[\"long\"], tweet_data[\"text\"],\n",
    "#                                           tweet_data[\"media\"], tweet_data[\"favs\"], tweet_data[\"retweets\"]))\n",
    "                \n",
    "#                 cursor.execute(sql_user, (user_data[\"name\"], user_data[\"handle\"], user_data[\"lang\"], \n",
    "#                                          user_data[\"verified\"], user_data[\"followers\"], user_data[\"following\"], \n",
    "#                                          user_data[\"statuses_count\"], user_data[\"favourite_count\"]))\n",
    "#             connection.commit()\n",
    "#         except Exception as e:\n",
    "#             print(e)\n",
    "#             connection.close()\n",
    "        \n",
    "    # Problem with the API\n",
    "    def on_error(self, status_code, data):\n",
    "        print(status_code, data)\n",
    "        connection.close()\n",
    "        self.disconnect()\n",
    "    \n",
    "    def write_to_csv(self, data, tweet = True):\n",
    "        if tweet:\n",
    "            with open(\"../../Data/tweet.csv\", \"a\") as tweets_file:\n",
    "                writer = csv.writer(tweets_file)\n",
    "                writer.writerow(list(data.values()))\n",
    "        else:\n",
    "            with open(\"../../Data/users.csv\", \"a\") as users_file:\n",
    "                writer = csv.writer(users_file)\n",
    "                writer.writerow(list(data.values()))\n",
    "   "
   ]
  },
  {
   "cell_type": "code",
   "execution_count": null,
   "metadata": {},
   "outputs": [],
   "source": [
    "# instantiating the class\n",
    "stream = MyStreamer(creds[\"consumer_key\"], creds[\"consumer_secert\"], creds[\"access_token\"], \n",
    "                    creds[\"access_secret\"])"
   ]
  },
  {
   "cell_type": "code",
   "execution_count": null,
   "metadata": {},
   "outputs": [],
   "source": [
    "stream.statuses.filter(track = \"#nba\")"
   ]
  }
 ],
 "metadata": {
  "kernelspec": {
   "display_name": "Python 3",
   "language": "python",
   "name": "python3"
  },
  "language_info": {
   "codemirror_mode": {
    "name": "ipython",
    "version": 3
   },
   "file_extension": ".py",
   "mimetype": "text/x-python",
   "name": "python",
   "nbconvert_exporter": "python",
   "pygments_lexer": "ipython3",
   "version": "3.6.7"
  }
 },
 "nbformat": 4,
 "nbformat_minor": 2
}
